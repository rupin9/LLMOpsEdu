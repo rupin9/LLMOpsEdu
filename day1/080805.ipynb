{
 "cells": [
  {
   "cell_type": "markdown",
   "metadata": {},
   "source": [
    "# [실습] Langchain으로 시장조사 문서 기반 챗봇 만들기 - PDF"
   ]
  },
  {
   "cell_type": "markdown",
   "metadata": {},
   "source": [
    "## 실습 목표\n",
    "---\n",
    "[실습] LangChain을 활용해서 입력된 문서를 요약해서 Context로 활용하는 챗봇을 개발합니다."
   ]
  },
  {
   "cell_type": "markdown",
   "metadata": {},
   "source": [
    "## 실습 목차\n",
    "---\n",
    "\n",
    "1. **시장조사 문서 벡터화:** RAG 챗봇에서 활용하기 위해 시장조사 파일을 읽어서 벡터화하는 과정을 실습합니다.\n",
    "\n",
    "2. **RAG 체인 구성:** 이전 실습에서 구성한 미니 RAG 체인을 응용해서 간단한 시장 조사 문서 기반 RAG 체인을 구성합니다.\n",
    "\n",
    "3. **챗봇 구현 및 사용:** 구성한 RAG 체인을 활용해서 시장조사 문서 기반 챗봇을 구현하고 사용해봅니다."
   ]
  },
  {
   "cell_type": "markdown",
   "metadata": {},
   "source": [
    "## 실습 개요\n",
    "---\n",
    "RAG 체인을 활용해서 시장조사 문서 기반 챗봇을 구현하고 사용해봅니다."
   ]
  },
  {
   "cell_type": "markdown",
   "metadata": {},
   "source": [
    "## 0. 환경 설정\n",
    "- 필요한 라이브러리를 불러옵니다."
   ]
  },
  {
   "cell_type": "code",
   "execution_count": 1,
   "metadata": {},
   "outputs": [],
   "source": [
    "from langchain.document_loaders import PyPDFLoader\n",
    "from langchain_community.chat_models import ChatOllama\n",
    "from langchain_community.embeddings import OllamaEmbeddings\n",
    "from langchain_community.vectorstores import FAISS\n",
    "from langchain_core.output_parsers import StrOutputParser\n",
    "from langchain_core.prompts import ChatPromptTemplate\n",
    "from langchain_core.runnables import RunnablePassthrough"
   ]
  },
  {
   "cell_type": "markdown",
   "metadata": {},
   "source": [
    "- Ollama를 통해 Mistral 7B 모델을 불러옵니다."
   ]
  },
  {
   "cell_type": "code",
   "execution_count": 2,
   "metadata": {},
   "outputs": [
    {
     "name": "stdout",
     "output_type": "stream",
     "text": [
      "\u001b[?25lpulling manifest ⠋ \u001b[?25h\u001b[?25l\u001b[2K\u001b[1Gpulling manifest ⠙ \u001b[?25h\u001b[?25l\u001b[2K\u001b[1Gpulling manifest ⠹ \u001b[?25h\u001b[?25l\u001b[2K\u001b[1Gpulling manifest ⠸ \u001b[?25h\u001b[?25l\u001b[2K\u001b[1Gpulling manifest ⠼ \u001b[?25h\u001b[?25l\u001b[2K\u001b[1Gpulling manifest ⠴ \u001b[?25h\u001b[?25l\u001b[2K\u001b[1Gpulling manifest ⠦ \u001b[?25h\u001b[?25l\u001b[2K\u001b[1Gpulling manifest ⠧ \u001b[?25h\u001b[?25l\u001b[2K\u001b[1Gpulling manifest ⠇ \u001b[?25h\u001b[?25l\u001b[2K\u001b[1Gpulling manifest ⠏ \u001b[?25h\u001b[?25l\u001b[2K\u001b[1Gpulling manifest \n",
      "pulling ff82381e2bea... 100% ▕████████████████▏ 4.1 GB                         \n",
      "pulling 43070e2d4e53... 100% ▕████████████████▏  11 KB                         \u001b[?25h\u001b[?25l\u001b[2K\u001b[1G\u001b[A\u001b[2K\u001b[1G\u001b[A\u001b[2K\u001b[1Gpulling manifest \n",
      "pulling ff82381e2bea... 100% ▕████████████████▏ 4.1 GB                         \n",
      "pulling 43070e2d4e53... 100% ▕████████████████▏  11 KB                         \u001b[?25h\u001b[?25l\u001b[2K\u001b[1G\u001b[A\u001b[2K\u001b[1G\u001b[A\u001b[2K\u001b[1Gpulling manifest \n",
      "pulling ff82381e2bea... 100% ▕████████████████▏ 4.1 GB                         \n",
      "pulling 43070e2d4e53... 100% ▕████████████████▏  11 KB                         \u001b[?25h\u001b[?25l\u001b[2K\u001b[1G\u001b[A\u001b[2K\u001b[1G\u001b[A\u001b[2K\u001b[1Gpulling manifest \n",
      "pulling ff82381e2bea... 100% ▕████████████████▏ 4.1 GB                         \n",
      "pulling 43070e2d4e53... 100% ▕████████████████▏  11 KB                         \u001b[?25h\u001b[?25l\u001b[2K\u001b[1G\u001b[A\u001b[2K\u001b[1G\u001b[A\u001b[2K\u001b[1Gpulling manifest \n",
      "pulling ff82381e2bea... 100% ▕████████████████▏ 4.1 GB                         \n",
      "pulling 43070e2d4e53... 100% ▕████████████████▏  11 KB                         \u001b[?25h\u001b[?25l\u001b[2K\u001b[1G\u001b[A\u001b[2K\u001b[1G\u001b[A\u001b[2K\u001b[1Gpulling manifest \n",
      "pulling ff82381e2bea... 100% ▕████████████████▏ 4.1 GB                         \n",
      "pulling 43070e2d4e53... 100% ▕████████████████▏  11 KB                         \u001b[?25h\u001b[?25l\u001b[2K\u001b[1G\u001b[A\u001b[2K\u001b[1G\u001b[A\u001b[2K\u001b[1Gpulling manifest \n",
      "pulling ff82381e2bea... 100% ▕████████████████▏ 4.1 GB                         \n",
      "pulling 43070e2d4e53... 100% ▕████████████████▏  11 KB                         \u001b[?25h\u001b[?25l\u001b[2K\u001b[1G\u001b[A\u001b[2K\u001b[1G\u001b[A\u001b[2K\u001b[1Gpulling manifest \n",
      "pulling ff82381e2bea... 100% ▕████████████████▏ 4.1 GB                         \n",
      "pulling 43070e2d4e53... 100% ▕████████████████▏  11 KB                         \u001b[?25h\u001b[?25l\u001b[2K\u001b[1G\u001b[A\u001b[2K\u001b[1G\u001b[A\u001b[2K\u001b[1Gpulling manifest \n",
      "pulling ff82381e2bea... 100% ▕████████████████▏ 4.1 GB                         \n",
      "pulling 43070e2d4e53... 100% ▕████████████████▏  11 KB                         \u001b[?25h\u001b[?25l\u001b[2K\u001b[1G\u001b[A\u001b[2K\u001b[1G\u001b[A\u001b[2K\u001b[1Gpulling manifest \n",
      "pulling ff82381e2bea... 100% ▕████████████████▏ 4.1 GB                         \n",
      "pulling 43070e2d4e53... 100% ▕████████████████▏  11 KB                         \u001b[?25h\u001b[?25l\u001b[2K\u001b[1G\u001b[A\u001b[2K\u001b[1G\u001b[A\u001b[2K\u001b[1Gpulling manifest \n",
      "pulling ff82381e2bea... 100% ▕████████████████▏ 4.1 GB                         \n",
      "pulling 43070e2d4e53... 100% ▕████████████████▏  11 KB                         \u001b[?25h\u001b[?25l\u001b[2K\u001b[1G\u001b[A\u001b[2K\u001b[1G\u001b[A\u001b[2K\u001b[1Gpulling manifest \n",
      "pulling ff82381e2bea... 100% ▕████████████████▏ 4.1 GB                         \n",
      "pulling 43070e2d4e53... 100% ▕████████████████▏  11 KB                         \u001b[?25h\n",
      "Error: open /mnt/elice/dataset/blobs/sha256-491dfa501e59ed17239711477601bdc7f559de5407fbd4a2a79078b271045621-partial-0: read-only file system\n"
     ]
    }
   ],
   "source": [
    "!ollama pull mistral:7b"
   ]
  },
  {
   "cell_type": "markdown",
   "metadata": {},
   "source": [
    "## 1. 시장조사 문서 벡터화\n",
    "- RAG 챗봇에서 활용하기 위해 시장조사 파일을 읽어서 벡터화하는 과정을 실습합니다."
   ]
  },
  {
   "cell_type": "markdown",
   "metadata": {},
   "source": [
    "먼저, mistral:7b 모델을 사용하는 ChatOllama 객체와 OllamaEmbeddings 객체를 생성합니다."
   ]
  },
  {
   "cell_type": "code",
   "execution_count": 3,
   "metadata": {},
   "outputs": [],
   "source": [
    "llm = ChatOllama(model=\"mistral:7b\")\n",
    "embeddings = OllamaEmbeddings(model=\"mistral:7b\")"
   ]
  },
  {
   "cell_type": "markdown",
   "metadata": {},
   "source": [
    "다음으로, 시장조사 PDF 문서를 불러와서 벡터화 해보겠습니다.\n",
    "- 한국소비자원의 2022년 키오스크(무인정보단말기) 이용 실태조사 보고서를 활용했습니다\n",
    "  - https://www.kca.go.kr/smartconsumer/sub.do?menukey=7301&mode=view&no=1003409523&page=2&cate=00000057\n",
    "- 이 실태조사 보고서는 2022년 키오스크의 사용자 경험, 접근성, 후속 조치에 대해 논의하는 보고서입니다. \n",
    "- 이를 활용해서 키오스크를 어떻게 세일즈 할 수 있을지 아이디어를 제공하는 챗봇을 만들어야 하는 상황이라고 가정해 봅시다."
   ]
  },
  {
   "cell_type": "markdown",
   "metadata": {},
   "source": [
    "먼저, LangChain의 `PyPDFLoader`를 활용해서 시장조사 보고서의 텍스트를 추출하고, 페이지 별로 `Document`를 생성하여 저장합니다."
   ]
  },
  {
   "cell_type": "code",
   "execution_count": 4,
   "metadata": {},
   "outputs": [],
   "source": [
    "doc_path = \"docs/키오스크(무인정보단말기) 이용실태 조사.pdf\"\n",
    "loader = PyPDFLoader(doc_path)\n",
    "docs = loader.load()"
   ]
  },
  {
   "cell_type": "markdown",
   "metadata": {},
   "source": [
    "생성된 Document의 수를 확인해봅시다."
   ]
  },
  {
   "cell_type": "code",
   "execution_count": 5,
   "metadata": {},
   "outputs": [
    {
     "name": "stdout",
     "output_type": "stream",
     "text": [
      "59\n"
     ]
    }
   ],
   "source": [
    "print(len(docs))"
   ]
  },
  {
   "cell_type": "markdown",
   "metadata": {},
   "source": [
    "다음으로, 각 Document의 길이를 확인해봅시다."
   ]
  },
  {
   "cell_type": "code",
   "execution_count": 6,
   "metadata": {},
   "outputs": [
    {
     "name": "stdout",
     "output_type": "stream",
     "text": [
      "[86, 6679, 6011, 5915, 1201, 908, 676, 1289, 821, 1154, 1439, 447, 1031, 1178, 514, 1083, 968, 1119, 1006, 1094, 978, 916, 1230, 862, 680, 1251, 1433, 1290, 729, 1170, 1011, 598, 733, 966, 934, 1195, 514, 1210, 777, 635, 651, 771, 837, 397, 953, 877, 548, 1022, 1198, 1183, 1230, 838, 533, 1255, 1231, 1894, 777, 798, 662]\n"
     ]
    }
   ],
   "source": [
    "doc_len = [len(doc.page_content) for doc in docs]\n",
    "print(doc_len)"
   ]
  },
  {
   "cell_type": "markdown",
   "metadata": {},
   "source": [
    "1천자 미만의 문서도 있지만, 6천자가 넘는 문서도 있는 것을 확인할 수 있습니다. 이대로 그냥 사용할 경우, Context가 너무 길어져 오히려 성능이 낮아질 수도 있습니다.\n",
    "\n",
    "우선은 이대로 RAG 체인을 구성해 봅시다."
   ]
  },
  {
   "cell_type": "markdown",
   "metadata": {},
   "source": [
    "## 2. RAG 체인 구성\n",
    "RAG 체인을 구성하기 위해 `Document`를 `OllamaEmbeddings`를 활용해 벡터로 변환하고, FAISS DB를 활용하여 저장합니다.\n",
    "- 변환 및 저장 과정은 약 3분 정도 소요됩니다."
   ]
  },
  {
   "cell_type": "code",
   "execution_count": 7,
   "metadata": {},
   "outputs": [],
   "source": [
    "vectorstore = FAISS.from_documents(\n",
    "    docs,\n",
    "    embedding=embeddings\n",
    ")"
   ]
  },
  {
   "cell_type": "code",
   "execution_count": 8,
   "metadata": {},
   "outputs": [],
   "source": [
    "db_retriever = vectorstore.as_retriever()"
   ]
  },
  {
   "cell_type": "markdown",
   "metadata": {},
   "source": [
    "이전 실습에서 구성한 미니 RAG Chain과 비슷하게 Chain을 구성해 봅시다.\n",
    "- 지난 실습과 달리 이번 챗봇의 역할은 마케터를 위한 챗봇으로 고정했으므로, 역할을 별도로 인자로 전달할 필요가 없습니다.\n",
    "- `RunnablePassthrough()`는 Chain의 이전 구성 요소에서 전달된 값을 그대로 전달하는 역할을 수행합니다."
   ]
  },
  {
   "cell_type": "code",
   "execution_count": 9,
   "metadata": {},
   "outputs": [],
   "source": [
    "def get_retrieved_text(docs):\n",
    "    result = \"\\n\".join([doc.page_content for doc in docs])\n",
    "    return result\n",
    "\n",
    "def init_chain():\n",
    "    messages_with_contexts = [\n",
    "        (\"system\", \"당신은 마케터를 위한 친절한 지원 챗봇입니다. 사용자가 입력하는 정보를 바탕으로 질문에 답하세요.\"),\n",
    "        (\"human\", \"정보: {context}.\\n{question}.\"),\n",
    "    ]\n",
    "\n",
    "    prompt_with_context = ChatPromptTemplate.from_messages(messages_with_contexts)\n",
    "\n",
    "    # 체인 구성\n",
    "    # context에는 질문과 가장 비슷한 문서를 반환하는 db_retriever에 get_retrieved_text를 적용한 chain의 결과값이 전달됩니다.\n",
    "    qa_chain = (\n",
    "        {\"context\": db_retriever | get_retrieved_text, \"question\": RunnablePassthrough()}\n",
    "        | prompt_with_context\n",
    "        | llm\n",
    "        | StrOutputParser()\n",
    "    )\n",
    "    \n",
    "    return qa_chain"
   ]
  },
  {
   "cell_type": "code",
   "execution_count": 10,
   "metadata": {},
   "outputs": [],
   "source": [
    "qa_chain = init_chain()"
   ]
  },
  {
   "cell_type": "markdown",
   "metadata": {},
   "source": [
    "Chain 구성이 완료되었습니다."
   ]
  },
  {
   "cell_type": "markdown",
   "metadata": {},
   "source": [
    "## 3. 챗봇 구현 및 사용\n",
    "- 구성한 RAG 체인을 활용해서 시장조사 문서 기반 챗봇을 구현하고 사용해봅니다."
   ]
  },
  {
   "cell_type": "markdown",
   "metadata": {},
   "source": [
    "방금 구현한 RAG Chain을 사용해서 시장조사 문서 기반 챗봇을 구현해볼 것입니다. \n",
    "\n",
    "그 전에, 별도로 RAG 기능을 추가하지 않은 LLM과 답변의 퀄리티를 비교해 봅시다."
   ]
  },
  {
   "cell_type": "code",
   "execution_count": 11,
   "metadata": {},
   "outputs": [],
   "source": [
    "messages_with_variables = [\n",
    "    (\"system\", \"당신은 마케터를 위한 친절한 지원 챗봇입니다.\"),\n",
    "    (\"human\", \"{question}.\"),\n",
    "]\n",
    "prompt = ChatPromptTemplate.from_messages(messages_with_variables)\n",
    "parser = StrOutputParser()\n",
    "chain = prompt | llm | parser"
   ]
  },
  {
   "cell_type": "code",
   "execution_count": 12,
   "metadata": {},
   "outputs": [
    {
     "name": "stdout",
     "output_type": "stream",
     "text": [
      " 안녕하세요! 제가 마케팅 채널 중 한 가지로, 키오스크(Kiosk)에 대한 관련성을 갖추고 있는 설문조사 결과를 소개해드리겠습니다.\n",
      "\n",
      "1. 키오스크의 활용도\n",
      "   - 52% 의 참여자들은 키오스크에서 상품 정보를 얻거나 서비스를 요청한 경험을 하였습니다.\n",
      "   - 38% 의 참여자들은 키오스크로 결제를 하였고, 24%는 선호하는 방법으로 매출이 이루어진 경험을 하였습니다.\n",
      "   - 50% 의 참여자들은 키오스크로 정보 조회와 결제에 대한 익숙함을 느꼈으며, 42%는 편리하다고 평가했습니다.\n",
      "\n",
      "2. 키오스크의 불만점\n",
      "   - 53% 의 참여자들은 키오스크의 이용 방법에 대한 설명이 부족하다고 평가했습니다.\n",
      "   - 40% 의 참여자들은 키오스크의 화면 구조나 이용성이 어려운 경험을 하였습니다.\n",
      "   - 39% 의 참여자들은 키오스크로 인해 대기시간이 길었거나, 많은 사람이 동시에 이용한 경험을 하였습니다.\n",
      "\n",
      "3. 향후 요구사항\n",
      "   - 82% 의 참여자들은 키오스크를 더욱 편리하게 만드는 것을 원합니다.\n",
      "   - 75% 의 참여자들은 키오스크의 이용 방법에 대한 설명이 명확해져야 함을 요구했습니다.\n",
      "   - 63% 의 참여자들은 키오스크로 인터넷 접속과 즐길 수 있는 컨텐츠를 제공하고 싶어한다고 평가했습니다.\n",
      "\n",
      "이러한 설문조사 결과는 키오스크의 개선 및 발전을 위한 기반으로, 향후 마케팅 전략에 도움이 될 수 있습니다.\n"
     ]
    }
   ],
   "source": [
    "print(chain.invoke(\"키오스크 관련 설문조사 결과를 알려줘\"))"
   ]
  },
  {
   "cell_type": "code",
   "execution_count": 13,
   "metadata": {},
   "outputs": [
    {
     "name": "stdout",
     "output_type": "stream",
     "text": [
      " 키오스크(무인정보단말기) 관련 설문조사 결과는 다음과 같습니다.\n",
      "\n",
      "1. 전체 응답자 중 키오스크를 이용한 경험이 있는 사람들의 비율은 80%입니다. (233명 중 186명)\n",
      "2. 피해 경험 유형별로 분석하면 다음과 같습니다.\n",
      "\n",
      "   * 강제 이용: 매장에 직원이 있는데도 키오스크로만 거래가 가능하다고 안내함 - 87% (163명)\n",
      "   * 취소 불가: 주문 후 취소가 불가능함 - 23% (53명)\n",
      "   * 변경 불가: 결제 전 장바구니에 담긴 상품 또는 서비스를 변경하지 못함 - 30% (69명)\n",
      "   * 주문 실수: 주문 실수를 인지하지 못해 주문한 것과 다른 상품‧서비스를 받음 - 71% (164명)\n",
      "   * 상품 미제공: 기기 오류 등으로 상품‧서비스를 받지 못했는데도 결제가 됨. - 77% (170명)\n",
      "\n",
      "3. 키오스크 관련 피해 경험 여부와 유형은 [그림5-2-1]에서 확인할 수 있습니다.\n",
      "\n",
      "이 데이터는 29시장조사국 시장감시팀의 233명의 응답자로부터 수집한 정보입니다.\n"
     ]
    }
   ],
   "source": [
    "print(qa_chain.invoke(\"키오스크 관련 설문조사 결과를 알려줘\"))"
   ]
  },
  {
   "cell_type": "markdown",
   "metadata": {},
   "source": [
    "일반 체인은 아무런 출처가 없는 답변을 생성한 반면, RAG 기능을 추가한 챗봇은 데이터를 기반으로 상대적으로 정확한 답변을 하는 것을 확인할 수 있습니다. \n",
    "\n",
    "이제 챗봇을 한번 사용해 봅시다."
   ]
  },
  {
   "cell_type": "code",
   "execution_count": null,
   "metadata": {
    "scrolled": true
   },
   "outputs": [
    {
     "name": "stdout",
     "output_type": "stream",
     "text": [
      "질문을 입력해주세요 (종료를 원하시면 '종료'를 입력해주세요.): 키오스크 사용을 어려워하는 나이는 몇 살인가요?\n",
      " 키오스크를 사용하는 것이 어려운 나이는 65세 이상으로 추정된다. 김효정의 연구에 따르면 노년층(65세 이상) 시니어들은 키오스크 이용 경험이 부정적이었고, 디지털 약자층인 장애인과 고령자의 비율도 지속적으로 증가하고 있어서 키오스크 환경에서는 많은 불편이 제기되고 있다는 것으로 알려져 있습니다.\n",
      "질문을 입력해주세요 (종료를 원하시면 '종료'를 입력해주세요.): 키오스크 사용 약자를 도와주는 방법은 무엇이 있을까요?\n",
      " The text you provided is a study on the use of kiosks (self-service information terminals) and their accessibility for people with disabilities in Korea. Here's a summary:\n",
      "\n",
      "1. The \"Act on the Promotion of the Use of Kiosks\" came into effect on January 28, 2023. However, kiosks installed before this date will be exempt from providing accessibility features for disabled individuals for three years. This means that the mandatory requirement to provide accessibility for the disabled through kiosks is delayed until 2026.\n",
      "\n",
      "2. The global kiosk market is expected to grow by an average of 9.8% annually, reaching approximately $44 trillion by 2027. In Korea, the number of kiosks in the private sector has increased more than threefold compared to 2019, suggesting that the use of kiosks will continue to increase in the future.\n",
      "\n",
      "3. A consumer survey found that the most common reason people use kiosks is because they can only order through the kiosk itself (315 out of 500 respondents). This suggests that kiosks are becoming increasingly widespread.\n",
      "\n",
      "4. The reasons given for using kiosks include: quicker service than dealing with staff, avoiding direct interaction with employees, being able to make purchases without staff noticing, the convenience of being able to order exactly what you want, and finding it enjoyable (73 respondents chose \"other\" as their reason).\n",
      "\n",
      "5. The text concludes by emphasizing the need to improve kiosk accessibility for people with disabilities quickly, suggesting that the exemption period for providing accessibility features should be reviewed, and that steps should be taken to implement mandatory 'barrier-free' kiosks gradually.\n",
      "\n",
      "Regarding your question about ways to help people with disuses use kiosks:\n",
      "\n",
      "1. Providing clear, concise, and easy-to-understand instructions on the kiosk screen in multiple formats (text, audio, braille).\n",
      "2. Ensuring that the kiosk is accessible for people using wheelchairs or mobility aids.\n",
      "3. Providing alternative input methods such as voice recognition or touch screens that can be operated by individuals with motor disabilities.\n",
      "4. Training staff to assist users with disabilities who may need help using the kiosk.\n",
      "5. Regularly testing and updating the kiosk software to ensure compatibility with assistive technologies.\n",
      "6. Conducting user testing with people with disabilities to identify areas for improvement and make necessary changes.\n",
      "질문을 입력해주세요 (종료를 원하시면 '종료'를 입력해주세요.): 결론을 얘기해 주세요\n",
      " Based on the data provided, it appears that there are several issues with the use of kiosks, particularly in the food service industry, as indicated by a high percentage of respondents experiencing problems with kiosks. The most common problems reported were forced usage of kiosks despite the presence of staff, inability to cancel orders, inability to change orders, errors in order placement, and non-receipt of ordered items due to machine error.\n",
      "\n",
      "The findings suggest that there is a need for improvements in the design, operation, and customer support for kiosks, especially in the food service industry, as this sector seems to be most affected by these issues. This could involve simplifying the user interface, providing clearer instructions, offering technical support during use, and ensuring that staff are available to assist customers if needed.\n",
      "\n",
      "Additionally, it may be beneficial for businesses to provide alternatives for those who prefer not to use kiosks or have difficulty doing so. For example, allowing cash transactions or accepting vouchers as payment could help cater to a wider range of customers.\n",
      "\n",
      "Lastly, efforts should be made to address the concerns related to delays in service and non-availability of discounts or rewards. This could involve optimizing kiosk systems for faster processing times and ensuring that customers are aware of any available discounts or reward programs.\n",
      "\n",
      "In conclusion, there is a need for improvements in kiosk design, operation, customer support, and payment options, as well as addressing concerns related to delays in service and the availability of discounts or rewards. These measures could help enhance the user experience and reduce issues reported by customers in various sectors.\n",
      "질문을 입력해주세요 (종료를 원하시면 '종료'를 입력해주세요.): 한글로 답변해 주세요\n",
      " 데이터에서 각 연령대별, 업체 분야별 평균 평점을 확인할 수 있습니다. 아래는 정리하면 다음과 같습니다.\n",
      "\n",
      "1. 연령대별 평균 평점 (전체)\n",
      "   - 20대: 3.95점\n",
      "   - 30대: 4.03점\n",
      "   - 40대: 4.13점\n",
      "   - 50대: 3.87점\n",
      "   - 60대 이상: 3.24점\n",
      "\n",
      "2. 업체 분야별 평균 평점 (유통 점포)\n",
      "   - 20대: 3.95점\n",
      "   - 30대: 4.03점\n",
      "   - 40대: 4.13점\n",
      "   - 50대: 3.87점\n",
      "   - 60대 이상: 3.24점\n",
      "\n",
      "3. 업체 분야별 평균 평점 (관공서)\n",
      "   - 20대: 3.29점\n",
      "   - 30대: 3.63점\n",
      "   - 40대: 3.91점\n",
      "   - 50대: 3.84점\n",
      "   - 60대 이상: 3.37점\n",
      "\n",
      "4. 업체 분야별 평균 평점 (병원)\n",
      "   - 20대: 3.76점\n",
      "   - 30대: 3.71점\n",
      "   - 40대: 4.00점\n",
      "   - 50대: 3.96점\n",
      "   - 60대 이상: 3.73점\n",
      "\n",
      "5. 업체 분야별 평균 평점 (무인 점포)\n",
      "   - 20대: 4.24점\n",
      "   - 30대: 4.31점\n",
      "   - 40대: 4.29점\n",
      "   - 50대: 4.35점\n",
      "   - 60대 이상: 3.90점\n"
     ]
    }
   ],
   "source": [
    "qa_chain = init_chain()\n",
    "while True:\n",
    "    question = input(\"질문을 입력해주세요 (종료를 원하시면 '종료'를 입력해주세요.): \")\n",
    "    if question == \"종료\":\n",
    "        break\n",
    "    else:\n",
    "        result = qa_chain.invoke(question)\n",
    "        print(result)"
   ]
  },
  {
   "cell_type": "code",
   "execution_count": null,
   "metadata": {},
   "outputs": [],
   "source": []
  },
  {
   "cell_type": "markdown",
   "metadata": {},
   "source": [
    "저희는 이전 챕터에서 구현한 챗봇이 가지고 있는 문제점 중 '문서나 데이터 기반 추론이 불가능하다.'를 완화했습니다.\n",
    "\n",
    "또한, 지금 구성한 챗봇은 UI가 없고 단순 표준 입출력 만을 사용합니다. 5챕터에서 Streamlit을 활용해 ChatGPT와 비슷한 웹 챗봇 어플리케이션을 제작해 볼 것입니다."
   ]
  }
 ],
 "metadata": {
  "kernelspec": {
   "display_name": "Python 3 (ipykernel)",
   "language": "python",
   "name": "python3"
  },
  "language_info": {
   "codemirror_mode": {
    "name": "ipython",
    "version": 3
   },
   "file_extension": ".py",
   "mimetype": "text/x-python",
   "name": "python",
   "nbconvert_exporter": "python",
   "pygments_lexer": "ipython3",
   "version": "3.10.13"
  }
 },
 "nbformat": 4,
 "nbformat_minor": 2
}
